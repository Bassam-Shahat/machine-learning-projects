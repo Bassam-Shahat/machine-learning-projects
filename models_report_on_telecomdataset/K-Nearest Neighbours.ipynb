{
 "cells": [
  {
   "cell_type": "code",
   "execution_count": 1,
   "metadata": {},
   "outputs": [],
   "source": [
    "# Import Counter object\n",
    "from collections import Counter\n",
    "# Import pandas for reading data\n",
    "import pandas as pd\n",
    "#Import scikit-learn metrics module for accuracy calculation\n",
    "from sklearn import metrics\n",
    "# Handling data imbalancing\n",
    "from imblearn.over_sampling import SMOTE # doctest: +NORMALIZE_WHITESPACE\n",
    "# Import LabelEncoder\n",
    "from sklearn.preprocessing import LabelEncoder, OrdinalEncoder\n",
    "# Import train_test_split function\n",
    "from sklearn.model_selection import train_test_split\n",
    "# Import K-neareast \n",
    "from sklearn.neighbors import KNeighborsClassifier\n",
    "# Import Naive Bayes Classifier\n",
    "from sklearn.naive_bayes import GaussianNB\n",
    "#Import scikit-learn metrics module for accuracy calculation\n",
    "from sklearn import metrics\n"
   ]
  },
  {
   "cell_type": "code",
   "execution_count": 2,
   "metadata": {},
   "outputs": [],
   "source": [
    "# Dealing with segmented data\n",
    "#\"\"\"select count(1) from \"AI_LAGORTA\".\"CAMP_AUG15_Y_CBM1\"\"\"\"\n",
    "\n",
    "from sqlalchemy import create_engine\n",
    "import cx_Oracle\n",
    "\n",
    "\n",
    "host='192.168.113.80'\n",
    "port=1521\n",
    "sid='bbidb'\n",
    "user='system'\n",
    "password='oraclebbi'\n",
    "sid = cx_Oracle.makedsn(host, port, sid=sid)\n",
    "\n",
    "def oracle_connect(host=host, sid=sid, user=user, password=password):\n",
    "    cstr = 'oracle://{user}:{password}@{sid}/'.format (\n",
    "        user = user ,\n",
    "        password = password ,\n",
    "        sid = sid\n",
    "    )\n",
    "\n",
    "    engine = create_engine (\n",
    "        cstr ,\n",
    "        convert_unicode = False ,\n",
    "        pool_recycle = 10 ,\n",
    "        pool_size = 50 ,\n",
    "        echo =False\n",
    "    )\n",
    "\n",
    "    return engine.connect()"
   ]
  },
  {
   "cell_type": "code",
   "execution_count": 3,
   "metadata": {},
   "outputs": [],
   "source": [
    "# retrieve database table\n",
    "con = oracle_connect()\n",
    "df = pd.read_sql_query('SELECT * FROM AI_LAGORTA.CAMP_AUG15_Y_CBM2', con = con)"
   ]
  },
  {
   "cell_type": "code",
   "execution_count": 4,
   "metadata": {},
   "outputs": [],
   "source": [
    "# handling ordinal data\n",
    "v_customer_value_enc = OrdinalEncoder ( categories = [ [ 'LVC' , 'HVC' ] ] )\n",
    "nationality_group_enc = OrdinalEncoder ( categories = [ [ 'Low' , 'Med' , \"High\" ] ] )\n",
    "df [ 'v_customer_value$' ] = v_customer_value_enc.fit_transform (df [ 'v_customer_value$' ].values.reshape ( -1 , 1 ) )\n",
    "df [ 'nationality_group' ] = nationality_group_enc.fit_transform (df [ 'nationality_group' ].values.reshape ( -1 , 1 ) )\n",
    "# separate predictors and target\n",
    "X = df.drop(['pk_msisdn_id', 'target_all'], axis=1)\n",
    "y = df['target_all'].values"
   ]
  },
  {
   "cell_type": "code",
   "execution_count": 5,
   "metadata": {},
   "outputs": [],
   "source": [
    "# split dataset into training and testing dataset\n",
    "X_train, X_test, y_train, y_test = train_test_split(X, y, test_size=0.3, stratify = y) # 70% training and 30% test\n"
   ]
  },
  {
   "cell_type": "code",
   "execution_count": 6,
   "metadata": {},
   "outputs": [
    {
     "data": {
      "text/plain": [
       "(16672, 7146)"
      ]
     },
     "execution_count": 6,
     "metadata": {},
     "output_type": "execute_result"
    }
   ],
   "source": [
    "len(y_train), len(y_test)"
   ]
  },
  {
   "cell_type": "code",
   "execution_count": 7,
   "metadata": {},
   "outputs": [
    {
     "name": "stdout",
     "output_type": "stream",
     "text": [
      "[['0' 96.42514395393475]\n",
      " ['1' 3.574856046065259]]\n"
     ]
    }
   ],
   "source": [
    "# Training class count\n",
    "import numpy as np\n",
    "\n",
    "unique, counts = np.unique(y_train, return_counts=True)\n",
    "percent = (counts / len(y_train)) * 100\n",
    "print(np.asarray((unique, percent)).T)"
   ]
  },
  {
   "cell_type": "code",
   "execution_count": 8,
   "metadata": {},
   "outputs": [
    {
     "name": "stdout",
     "output_type": "stream",
     "text": [
      "[['0' 6891]\n",
      " ['1' 255]]\n"
     ]
    }
   ],
   "source": [
    "# Testing class count\n",
    "unique, counts = np.unique(y_test, return_counts=True)\n",
    "percent = counts \n",
    "print(np.asarray((unique, percent)).T)"
   ]
  },
  {
   "cell_type": "code",
   "execution_count": 9,
   "metadata": {},
   "outputs": [
    {
     "name": "stdout",
     "output_type": "stream",
     "text": [
      "Original dataset shape Counter({'0': 16076, '1': 596})\n",
      "Resampled dataset shape Counter({'0': 16076, '1': 16076})\n"
     ]
    }
   ],
   "source": [
    "# Handling data imbalancing\n",
    "sm = SMOTE(random_state=42)\n",
    "X_res, y_res = sm.fit_resample(X_train, y_train)\n",
    "print('Original dataset shape %s' % Counter(y_train))\n",
    "print('Resampled dataset shape %s' % Counter(y_res))"
   ]
  },
  {
   "cell_type": "code",
   "execution_count": 10,
   "metadata": {},
   "outputs": [
    {
     "data": {
      "text/plain": [
       "KNeighborsClassifier(algorithm='auto', leaf_size=30, metric='minkowski',\n",
       "                     metric_params=None, n_jobs=None, n_neighbors=15, p=2,\n",
       "                     weights='uniform')"
      ]
     },
     "execution_count": 10,
     "metadata": {},
     "output_type": "execute_result"
    }
   ],
   "source": [
    "# K-Nearest Neighbours Model\n",
    "model = KNeighborsClassifier(n_neighbors=15)\n",
    "model.fit(X_res, y_res)\n",
    "\n"
   ]
  },
  {
   "cell_type": "code",
   "execution_count": 11,
   "metadata": {},
   "outputs": [
    {
     "name": "stdout",
     "output_type": "stream",
     "text": [
      "              precision    recall  f1-score   support\n",
      "\n",
      "     class 0       0.92      0.72      0.81     16076\n",
      "     class 1       0.77      0.94      0.85     16076\n",
      "\n",
      "    accuracy                           0.83     32152\n",
      "   macro avg       0.85      0.83      0.83     32152\n",
      "weighted avg       0.85      0.83      0.83     32152\n",
      "\n"
     ]
    }
   ],
   "source": [
    "# Training Data Metrics\n",
    "target_names = ['class 0', 'class 1']\n",
    "print(metrics.classification_report(y_res, model.predict(X_res), target_names=target_names))"
   ]
  },
  {
   "cell_type": "code",
   "execution_count": 12,
   "metadata": {},
   "outputs": [
    {
     "name": "stdout",
     "output_type": "stream",
     "text": [
      "              precision    recall  f1-score   support\n",
      "\n",
      "     class 0       0.97      0.70      0.81      6891\n",
      "     class 1       0.05      0.44      0.09       255\n",
      "\n",
      "    accuracy                           0.69      7146\n",
      "   macro avg       0.51      0.57      0.45      7146\n",
      "weighted avg       0.94      0.69      0.79      7146\n",
      "\n"
     ]
    }
   ],
   "source": [
    "# Testing Data Metrics\n",
    "target_names = ['class 0', 'class 1']\n",
    "print(metrics.classification_report(y_test, model.predict(X_test), target_names=target_names))"
   ]
  },
  {
   "cell_type": "code",
   "execution_count": null,
   "metadata": {},
   "outputs": [],
   "source": []
  }
 ],
 "metadata": {
  "kernelspec": {
   "display_name": "Python 3",
   "language": "python",
   "name": "python3"
  },
  "language_info": {
   "codemirror_mode": {
    "name": "ipython",
    "version": 3
   },
   "file_extension": ".py",
   "mimetype": "text/x-python",
   "name": "python",
   "nbconvert_exporter": "python",
   "pygments_lexer": "ipython3",
   "version": "3.6.5"
  }
 },
 "nbformat": 4,
 "nbformat_minor": 2
}
