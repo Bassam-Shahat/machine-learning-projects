{
 "cells": [
  {
   "cell_type": "code",
   "execution_count": 1,
   "metadata": {},
   "outputs": [
    {
     "ename": "ModuleNotFoundError",
     "evalue": "No module named 'imblearn'",
     "output_type": "error",
     "traceback": [
      "\u001b[1;31m---------------------------------------------------------------------------\u001b[0m",
      "\u001b[1;31mModuleNotFoundError\u001b[0m                       Traceback (most recent call last)",
      "\u001b[1;32m<ipython-input-1-e2d68802bdfd>\u001b[0m in \u001b[0;36m<module>\u001b[1;34m\u001b[0m\n\u001b[0;32m      8\u001b[0m \u001b[1;32mfrom\u001b[0m \u001b[0msklearn\u001b[0m\u001b[1;33m.\u001b[0m\u001b[0mnaive_bayes\u001b[0m \u001b[1;32mimport\u001b[0m \u001b[0mGaussianNB\u001b[0m\u001b[1;33m\u001b[0m\u001b[0m\n\u001b[0;32m      9\u001b[0m \u001b[1;31m# Handling data imbalancing\u001b[0m\u001b[1;33m\u001b[0m\u001b[1;33m\u001b[0m\u001b[0m\n\u001b[1;32m---> 10\u001b[1;33m \u001b[1;32mfrom\u001b[0m \u001b[0mimblearn\u001b[0m\u001b[1;33m.\u001b[0m\u001b[0mover_sampling\u001b[0m \u001b[1;32mimport\u001b[0m \u001b[0mSMOTE\u001b[0m\u001b[1;33m\u001b[0m\u001b[0m\n\u001b[0m\u001b[0;32m     11\u001b[0m \u001b[1;31m# Import pandas for reading data\u001b[0m\u001b[1;33m\u001b[0m\u001b[1;33m\u001b[0m\u001b[0m\n\u001b[0;32m     12\u001b[0m \u001b[1;32mimport\u001b[0m \u001b[0mpandas\u001b[0m \u001b[1;32mas\u001b[0m \u001b[0mpd\u001b[0m\u001b[1;33m\u001b[0m\u001b[0m\n",
      "\u001b[1;31mModuleNotFoundError\u001b[0m: No module named 'imblearn'"
     ]
    }
   ],
   "source": [
    "# Load libraries\n",
    "from sklearn.ensemble import AdaBoostClassifier\n",
    "# Import Counter\n",
    "from collections import Counter\n",
    "# Import LabelEncoder\n",
    "from sklearn.preprocessing import LabelEncoder, OrdinalEncoder\n",
    "# Import Naive Bayes Classifier\n",
    "from sklearn.naive_bayes import GaussianNB\n",
    "# Handling data imbalancing\n",
    "from imblearn.over_sampling import SMOTE\n",
    "# Import pandas for reading data\n",
    "import pandas as pd\n",
    "# Import train_test_split function\n",
    "from sklearn.model_selection import train_test_split\n",
    "#Import scikit-learn metrics module for accuracy calculation\n",
    "from sklearn import metrics"
   ]
  },
  {
   "cell_type": "code",
   "execution_count": null,
   "metadata": {},
   "outputs": [],
   "source": [
    "# Dealing with segmented data\n",
    "#\"\"\"select count(1) from \"AI_LAGORTA\".\"CAMP_AUG15_Y_CBM1\"\"\"\"\n",
    "\n",
    "from sqlalchemy import create_engine\n",
    "import cx_Oracle\n",
    "\n",
    "\n",
    "host='192.168.113.80'\n",
    "port=1521\n",
    "sid='bbidb'\n",
    "user='system'\n",
    "password='oraclebbi'\n",
    "sid = cx_Oracle.makedsn(host, port, sid=sid)\n",
    "\n",
    "def oracle_connect(host=host, sid=sid, user=user, password=password):\n",
    "    cstr = 'oracle://{user}:{password}@{sid}/'.format (\n",
    "        user = user ,\n",
    "        password = password ,\n",
    "        sid = sid\n",
    "    )\n",
    "\n",
    "    engine = create_engine (\n",
    "        cstr ,\n",
    "        convert_unicode = False ,\n",
    "        pool_recycle = 10 ,\n",
    "        pool_size = 50 ,\n",
    "        echo =False\n",
    "    )\n",
    "\n",
    "    return engine.connect()"
   ]
  },
  {
   "cell_type": "code",
   "execution_count": 26,
   "metadata": {},
   "outputs": [],
   "source": [
    "# Dealing with segmented data\n",
    "#\"\"\"select count(1) from \"AI_LAGORTA\".\"CAMP_AUG15_Y_CBM1\"\"\"\"\n",
    "\n",
    "from sqlalchemy import create_engine\n",
    "import cx_Oracle\n",
    "\n",
    "\n",
    "host='192.168.113.80'\n",
    "port=1521\n",
    "sid='bbidb'\n",
    "user='system'\n",
    "password='oraclebbi'\n",
    "sid = cx_Oracle.makedsn(host, port, sid=sid)\n",
    "\n",
    "def oracle_connect(host=host, sid=sid, user=user, password=password):\n",
    "    cstr = 'oracle://{user}:{password}@{sid}/'.format (\n",
    "        user = user ,\n",
    "        password = password ,\n",
    "        sid = sid\n",
    "    )\n",
    "\n",
    "    engine = create_engine (\n",
    "        cstr ,\n",
    "        convert_unicode = False ,\n",
    "        pool_recycle = 10 ,\n",
    "        pool_size = 50 ,\n",
    "        echo =False\n",
    "    )\n",
    "\n",
    "    return engine.connect()"
   ]
  },
  {
   "cell_type": "code",
   "execution_count": 27,
   "metadata": {},
   "outputs": [
    {
     "name": "stderr",
     "output_type": "stream",
     "text": [
      "Exception during reset or similar\n",
      "Traceback (most recent call last):\n",
      "  File \"C:\\Users\\bassam.abdelmohsen\\AppData\\Local\\Continuum\\anaconda3\\lib\\site-packages\\sqlalchemy\\pool\\base.py\", line 680, in _finalize_fairy\n",
      "    fairy._reset(pool)\n",
      "  File \"C:\\Users\\bassam.abdelmohsen\\AppData\\Local\\Continuum\\anaconda3\\lib\\site-packages\\sqlalchemy\\pool\\base.py\", line 867, in _reset\n",
      "    pool._dialect.do_rollback(self)\n",
      "  File \"C:\\Users\\bassam.abdelmohsen\\AppData\\Local\\Continuum\\anaconda3\\lib\\site-packages\\sqlalchemy\\engine\\default.py\", line 530, in do_rollback\n",
      "    dbapi_connection.rollback()\n",
      "cx_Oracle.OperationalError: ORA-03135: connection lost contact\n",
      "Process ID: 7428\n",
      "Session ID: 928 Serial number: 23442\n"
     ]
    }
   ],
   "source": [
    "# retrieve database table\n",
    "con = oracle_connect()\n",
    "df = pd.read_sql_query('SELECT * FROM AI_LAGORTA.CAMP_AUG15_Y_CBM2', con = con)"
   ]
  },
  {
   "cell_type": "code",
   "execution_count": 28,
   "metadata": {},
   "outputs": [],
   "source": [
    "# handling ordinal data\n",
    "v_customer_value_enc = OrdinalEncoder ( categories = [ [ 'LVC' , 'HVC' ] ] )\n",
    "nationality_group_enc = OrdinalEncoder ( categories = [ [ 'Low' , 'Med' , \"High\" ] ] )\n",
    "df [ 'v_customer_value$' ] = v_customer_value_enc.fit_transform (df [ 'v_customer_value$' ].values.reshape ( -1 , 1 ) )\n",
    "df [ 'nationality_group' ] = nationality_group_enc.fit_transform (df [ 'nationality_group' ].values.reshape ( -1 , 1 ) )\n",
    "# separate predictors and target\n",
    "X = df.drop(['pk_msisdn_id', 'target_all'], axis=1)\n",
    "y = df['target_all'].values"
   ]
  },
  {
   "cell_type": "code",
   "execution_count": 29,
   "metadata": {},
   "outputs": [],
   "source": [
    "# split dataset into training and testing dataset\n",
    "X_train, X_test, y_train, y_test = train_test_split(X, y, test_size=0.3, stratify = y) # 70% training and 30% test\n"
   ]
  },
  {
   "cell_type": "code",
   "execution_count": 30,
   "metadata": {},
   "outputs": [
    {
     "data": {
      "text/plain": [
       "(16672, 7146)"
      ]
     },
     "execution_count": 30,
     "metadata": {},
     "output_type": "execute_result"
    }
   ],
   "source": [
    "len(y_train), len(y_test)"
   ]
  },
  {
   "cell_type": "code",
   "execution_count": 31,
   "metadata": {},
   "outputs": [
    {
     "name": "stdout",
     "output_type": "stream",
     "text": [
      "[['0' 96.42514395393475]\n",
      " ['1' 3.574856046065259]]\n"
     ]
    }
   ],
   "source": [
    "# Training class count\n",
    "import numpy as np\n",
    "\n",
    "unique, counts = np.unique(y_train, return_counts=True)\n",
    "percent = (counts / len(y_train)) * 100\n",
    "print(np.asarray((unique, percent)).T)"
   ]
  },
  {
   "cell_type": "code",
   "execution_count": 32,
   "metadata": {},
   "outputs": [
    {
     "name": "stdout",
     "output_type": "stream",
     "text": [
      "[['0' 6891]\n",
      " ['1' 255]]\n"
     ]
    }
   ],
   "source": [
    "# Testing class count\n",
    "unique, counts = np.unique(y_test, return_counts=True)\n",
    "percent = counts \n",
    "print(np.asarray((unique, percent)).T)"
   ]
  },
  {
   "cell_type": "code",
   "execution_count": 33,
   "metadata": {},
   "outputs": [
    {
     "name": "stdout",
     "output_type": "stream",
     "text": [
      "Original dataset shape Counter({'0': 16076, '1': 596})\n",
      "Resampled dataset shape Counter({'0': 16076, '1': 16076})\n"
     ]
    }
   ],
   "source": [
    "# Handling data imbalancing\n",
    "sm = SMOTE(random_state=42)\n",
    "X_res, y_res = sm.fit_resample(X_train, y_train)\n",
    "print('Original dataset shape %s' % Counter(y_train))\n",
    "print('Resampled dataset shape %s' % Counter(y_res))"
   ]
  },
  {
   "cell_type": "code",
   "execution_count": 34,
   "metadata": {},
   "outputs": [],
   "source": [
    "# create classifier\n",
    "naivebayes = GaussianNB()\n",
    "# Create adaboost classifer object\n",
    "ad_boost_c =AdaBoostClassifier(n_estimators=100, base_estimator=naivebayes ,learning_rate=1)\n",
    "# Train Adaboost Classifer\n",
    "model = ad_boost_c.fit(X_res, y_res)"
   ]
  },
  {
   "cell_type": "code",
   "execution_count": 35,
   "metadata": {},
   "outputs": [
    {
     "name": "stdout",
     "output_type": "stream",
     "text": [
      "              precision    recall  f1-score   support\n",
      "\n",
      "     class 0       0.55      0.62      0.58     16076\n",
      "     class 1       0.56      0.49      0.52     16076\n",
      "\n",
      "    accuracy                           0.55     32152\n",
      "   macro avg       0.56      0.55      0.55     32152\n",
      "weighted avg       0.56      0.55      0.55     32152\n",
      "\n"
     ]
    }
   ],
   "source": [
    "# Training Data Metrics\n",
    "target_names = ['class 0', 'class 1']\n",
    "print(metrics.classification_report(y_res, model.predict(X_res), target_names=target_names))"
   ]
  },
  {
   "cell_type": "code",
   "execution_count": 36,
   "metadata": {},
   "outputs": [
    {
     "name": "stdout",
     "output_type": "stream",
     "text": [
      "              precision    recall  f1-score   support\n",
      "\n",
      "     class 0       0.96      0.62      0.76      6891\n",
      "     class 1       0.04      0.38      0.07       255\n",
      "\n",
      "    accuracy                           0.61      7146\n",
      "   macro avg       0.50      0.50      0.41      7146\n",
      "weighted avg       0.93      0.61      0.73      7146\n",
      "\n"
     ]
    }
   ],
   "source": [
    "# Testing Data Metrics\n",
    "target_names = ['class 0', 'class 1']\n",
    "print(metrics.classification_report(y_test, model.predict(X_test), target_names=target_names))"
   ]
  },
  {
   "cell_type": "code",
   "execution_count": null,
   "metadata": {},
   "outputs": [],
   "source": []
  }
 ],
 "metadata": {
  "kernelspec": {
   "display_name": "Python 3",
   "language": "python",
   "name": "python3"
  },
  "language_info": {
   "codemirror_mode": {
    "name": "ipython",
    "version": 3
   },
   "file_extension": ".py",
   "mimetype": "text/x-python",
   "name": "python",
   "nbconvert_exporter": "python",
   "pygments_lexer": "ipython3",
   "version": "3.7.0"
  }
 },
 "nbformat": 4,
 "nbformat_minor": 2
}
