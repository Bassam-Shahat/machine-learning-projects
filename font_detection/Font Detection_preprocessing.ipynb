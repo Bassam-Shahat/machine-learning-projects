{
 "cells": [
  {
   "cell_type": "markdown",
   "metadata": {},
   "source": [
    "### in this notebook i made some preprocessing to make 3 models one for font_type and one for font_size and one for font_type2"
   ]
  },
  {
   "cell_type": "code",
   "execution_count": 1,
   "metadata": {},
   "outputs": [],
   "source": [
    "import cv2\n",
    "import os \n",
    "import numpy as np\n",
    "import shutil"
   ]
  },
  {
   "cell_type": "code",
   "execution_count": 2,
   "metadata": {},
   "outputs": [
    {
     "data": {
      "text/plain": [
       "'\\nimages = []\\nfor file_ in files:\\n    full_file_path = os.path.join(root, file_)\\n    img = cv2.imread(full_file_path)\\n    images.append(img)\\nimages=np.array(images)\\n'"
      ]
     },
     "execution_count": 2,
     "metadata": {},
     "output_type": "execute_result"
    }
   ],
   "source": [
    "root='E:\\\\assignments_DRkhaled\\\\font_detection\\\\Font_Detection'\n",
    "files=os.listdir('E:\\\\assignments_DRkhaled\\\\font_detection\\\\Font_Detection')    \n",
    "\n",
    "'''\n",
    "images = []\n",
    "for file_ in files:\n",
    "    full_file_path = os.path.join(root, file_)\n",
    "    img = cv2.imread(full_file_path)\n",
    "    images.append(img)\n",
    "images=np.array(images)\n",
    "'''"
   ]
  },
  {
   "cell_type": "code",
   "execution_count": 3,
   "metadata": {},
   "outputs": [
    {
     "data": {
      "text/plain": [
       "\"['AdvertisingBold_Image_10_AdvertisingBold_10013_Italic.png']\""
      ]
     },
     "execution_count": 3,
     "metadata": {},
     "output_type": "execute_result"
    }
   ],
   "source": [
    "files[0]"
   ]
  },
  {
   "cell_type": "code",
   "execution_count": 4,
   "metadata": {},
   "outputs": [],
   "source": [
    "font_type  = []\n",
    "font_size  = []\n",
    "font_type2 = []\n",
    "for img in files:\n",
    "    \n",
    "    sub=img[2:-6].split(\"_\")\n",
    "    font_type.append(sub[0])\n",
    "    font_size.append(sub[2])\n",
    "    font_type2.append(sub[5])"
   ]
  },
  {
   "cell_type": "code",
   "execution_count": 5,
   "metadata": {},
   "outputs": [],
   "source": [
    "font_type=np.array(font_type)\n",
    "font_size=np.array(font_size)\n",
    "font_type2=np.array(font_type2)"
   ]
  },
  {
   "cell_type": "code",
   "execution_count": 6,
   "metadata": {},
   "outputs": [
    {
     "name": "stdout",
     "output_type": "stream",
     "text": [
      "7955 7955 7955\n"
     ]
    }
   ],
   "source": [
    "print(len(font_type),len(font_size) ,len(font_type2)) "
   ]
  },
  {
   "cell_type": "code",
   "execution_count": 7,
   "metadata": {},
   "outputs": [],
   "source": [
    "os.mkdir(os.path.join('E:\\\\assignments_DRkhaled\\\\font_detection\\\\', \"font_type\"))\n",
    "os.mkdir(os.path.join('E:\\\\assignments_DRkhaled\\\\font_detection\\\\', \"font_size\"))\n",
    "os.mkdir(os.path.join('E:\\\\assignments_DRkhaled\\\\font_detection\\\\', \"font_type2\"))"
   ]
  },
  {
   "cell_type": "code",
   "execution_count": 8,
   "metadata": {},
   "outputs": [],
   "source": [
    "for i in np.unique(font_type):\n",
    "     os.mkdir(os.path.join('E:\\\\assignments_DRkhaled\\\\font_detection\\\\font_type\\\\', i))"
   ]
  },
  {
   "cell_type": "code",
   "execution_count": 9,
   "metadata": {},
   "outputs": [],
   "source": [
    "for i in np.unique(font_size):\n",
    "     os.mkdir(os.path.join('E:\\\\assignments_DRkhaled\\\\font_detection\\\\font_size\\\\', i))"
   ]
  },
  {
   "cell_type": "code",
   "execution_count": 10,
   "metadata": {},
   "outputs": [],
   "source": [
    "for i in np.unique(font_type2):\n",
    "     os.mkdir(os.path.join('E:\\\\assignments_DRkhaled\\\\font_detection\\\\font_type2\\\\', i))"
   ]
  },
  {
   "cell_type": "code",
   "execution_count": 11,
   "metadata": {},
   "outputs": [],
   "source": [
    "for i,img in enumerate(files):\n",
    "        os.rename('E:/assignments_DRkhaled/font_detection/Font_Detection/'+img,\"E:/assignments_DRkhaled/font_detection/font_type/\"+font_type[i]+'/'+str(i)+\".png\")"
   ]
  },
  {
   "cell_type": "code",
   "execution_count": 17,
   "metadata": {},
   "outputs": [],
   "source": [
    "for i,img in enumerate(files):        \n",
    "        os.rename('E:/assignments_DRkhaled/font_detection/Font_Detection/'+img,\"E:/assignments_DRkhaled/font_detection/font_size/\"+str(font_size[i])+'/'+str(i)+\".png\")"
   ]
  },
  {
   "cell_type": "code",
   "execution_count": 18,
   "metadata": {},
   "outputs": [],
   "source": [
    "for i,img in enumerate(files):        \n",
    "        os.rename('E:\\\\assignments_DRkhaled\\\\font_detection\\\\Font_Detection\\\\'+img,\"E:\\\\assignments_DRkhaled\\\\font_detection\\\\font_type2\\\\\"+font_type2[i]+'\\\\'+str(i)+\".png\")"
   ]
  }
 ],
 "metadata": {
  "kernelspec": {
   "display_name": "Python 3",
   "language": "python",
   "name": "python3"
  },
  "language_info": {
   "codemirror_mode": {
    "name": "ipython",
    "version": 3
   },
   "file_extension": ".py",
   "mimetype": "text/x-python",
   "name": "python",
   "nbconvert_exporter": "python",
   "pygments_lexer": "ipython3",
   "version": "3.7.0"
  }
 },
 "nbformat": 4,
 "nbformat_minor": 4
}
