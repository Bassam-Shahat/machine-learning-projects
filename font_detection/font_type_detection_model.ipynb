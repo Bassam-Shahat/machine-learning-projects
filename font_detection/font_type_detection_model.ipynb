{
 "cells": [
  {
   "cell_type": "code",
   "execution_count": 19,
   "metadata": {},
   "outputs": [],
   "source": [
    "import csv\n",
    "import numpy as np\n",
    "import tensorflow as tf\n",
    "from tensorflow.keras.preprocessing.image import ImageDataGenerator\n",
    "from keras.callbacks import ModelCheckpoint, EarlyStopping, CSVLogger"
   ]
  },
  {
   "cell_type": "code",
   "execution_count": 20,
   "metadata": {},
   "outputs": [],
   "source": [
    "def font_type_detection_model():\n",
    "\n",
    "\n",
    "    #early stopping based on validation loss\n",
    "    early_stop = EarlyStopping(monitor='val_loss', patience=3, verbose=1)\n",
    "    #This callback will stop the training when there is no improvement in\n",
    "    # the validation loss for three consecutive epochs.\n",
    "\n",
    "    #CSVLogger logs epoch, acc, loss, val_acc, val_loss\n",
    "    log_csv = CSVLogger('font_type_detection_model_logs.csv', separator=',', append=False)\n",
    "    callbacks_list = [ early_stop, log_csv]\n",
    "    \n",
    "    \n",
    "    # bulding model\n",
    "    model = tf.keras.models.Sequential([\n",
    "        tf.keras.layers.Conv2D(16, (3,3), activation='relu', input_shape=(64, 64, 3)),\n",
    "    tf.keras.layers.MaxPooling2D(2, 2),\n",
    "    # The second convolution\n",
    "    tf.keras.layers.Conv2D(32, (3,3), activation='relu'),\n",
    "    tf.keras.layers.MaxPooling2D(2,2),\n",
    "    tf.keras.layers.Dropout(0.2),    \n",
    "    # The third convolution\n",
    "    tf.keras.layers.Conv2D(64, (3,3), activation='relu'),\n",
    "    tf.keras.layers.MaxPooling2D(2,2),\n",
    "    tf.keras.layers.Dropout(0.2),     \n",
    "    # Flatten the results to feed into a DNN\n",
    "    tf.keras.layers.Flatten(),\n",
    "    # 512 neuron hidden layer\n",
    "    tf.keras.layers.Dense(512, activation='relu'),\n",
    "    # Only 1 output neuron. It will contain a value from 0-1\n",
    "    tf.keras.layers.Dense(1, activation='sigmoid')\n",
    "    ])\n",
    "\n",
    "\n",
    "\n",
    "    model.compile(loss='binary_crossentropy',\n",
    "              optimizer = 'Adam',\n",
    "              metrics=['accuracy'])\n",
    "    \n",
    "    model.summary()\n",
    "        \n",
    "\n",
    "\n",
    "    train_datagen = ImageDataGenerator(rescale=1/255,validation_split=0.2)\n",
    "\n",
    "\n",
    "    train_generator = train_datagen.flow_from_directory(\n",
    "        'E:\\\\assignments_DRkhaled\\\\font_detection\\\\font_type',  # This is the source directory for training images\n",
    "        target_size=(64, 64),  # All images will be resized to 64*64\n",
    "        batch_size=10,\n",
    "        # Since we use binary_crossentropy loss, we need binary labels\n",
    "        class_mode='binary',\n",
    "        subset='training')\n",
    " \n",
    "    validation_datagen = train_datagen.flow_from_directory(\n",
    "     'E:\\\\assignments_DRkhaled\\\\font_detection\\\\font_type', # same directory as training data\n",
    "    target_size=(64, 64),\n",
    "    batch_size=10,\n",
    "    class_mode='binary',\n",
    "    subset='validation') # set as validation data\n",
    "    \n",
    "         \n",
    "    # model fitting\n",
    "    history = model.fit_generator(\n",
    "      train_generator,\n",
    "      steps_per_epoch=6365/10 ,  \n",
    "      epochs=15,\n",
    "      verbose=1, \n",
    "     callbacks=callbacks_list,\n",
    "     validation_data=validation_datagen,\n",
    "     validation_steps=1590/10)\n",
    "    \n",
    "\n",
    "    \n",
    "    return history"
   ]
  },
  {
   "cell_type": "code",
   "execution_count": 21,
   "metadata": {},
   "outputs": [
    {
     "name": "stdout",
     "output_type": "stream",
     "text": [
      "Model: \"sequential_5\"\n",
      "_________________________________________________________________\n",
      "Layer (type)                 Output Shape              Param #   \n",
      "=================================================================\n",
      "conv2d_15 (Conv2D)           (None, 62, 62, 16)        448       \n",
      "_________________________________________________________________\n",
      "max_pooling2d_15 (MaxPooling (None, 31, 31, 16)        0         \n",
      "_________________________________________________________________\n",
      "conv2d_16 (Conv2D)           (None, 29, 29, 32)        4640      \n",
      "_________________________________________________________________\n",
      "max_pooling2d_16 (MaxPooling (None, 14, 14, 32)        0         \n",
      "_________________________________________________________________\n",
      "dropout_10 (Dropout)         (None, 14, 14, 32)        0         \n",
      "_________________________________________________________________\n",
      "conv2d_17 (Conv2D)           (None, 12, 12, 64)        18496     \n",
      "_________________________________________________________________\n",
      "max_pooling2d_17 (MaxPooling (None, 6, 6, 64)          0         \n",
      "_________________________________________________________________\n",
      "dropout_11 (Dropout)         (None, 6, 6, 64)          0         \n",
      "_________________________________________________________________\n",
      "flatten_5 (Flatten)          (None, 2304)              0         \n",
      "_________________________________________________________________\n",
      "dense_10 (Dense)             (None, 512)               1180160   \n",
      "_________________________________________________________________\n",
      "dense_11 (Dense)             (None, 1)                 513       \n",
      "=================================================================\n",
      "Total params: 1,204,257\n",
      "Trainable params: 1,204,257\n",
      "Non-trainable params: 0\n",
      "_________________________________________________________________\n",
      "Found 6363 images belonging to 2 classes.\n",
      "Found 1590 images belonging to 2 classes.\n",
      "Epoch 1/15\n",
      "636/636 [============================>.] - ETA: 0s - loss: 0.1331 - acc: 0.9484Epoch 1/15\n",
      "637/636 [==============================] - 198s 311ms/step - loss: 0.1330 - acc: 0.9485 - val_loss: 0.0329 - val_acc: 0.9925\n",
      "Epoch 2/15\n",
      "636/636 [============================>.] - ETA: 0s - loss: 0.0254 - acc: 0.9913Epoch 1/15\n",
      "637/636 [==============================] - 125s 197ms/step - loss: 0.0254 - acc: 0.9914 - val_loss: 0.0079 - val_acc: 0.9981\n",
      "Epoch 3/15\n",
      "636/636 [============================>.] - ETA: 0s - loss: 0.0108 - acc: 0.9967Epoch 1/15\n",
      "637/636 [==============================] - 129s 203ms/step - loss: 0.0107 - acc: 0.9967 - val_loss: 0.0053 - val_acc: 0.9994\n",
      "Epoch 4/15\n",
      "636/636 [============================>.] - ETA: 0s - loss: 0.0101 - acc: 0.9964Epoch 1/15\n",
      "637/636 [==============================] - 131s 206ms/step - loss: 0.0101 - acc: 0.9964 - val_loss: 0.0113 - val_acc: 0.9950\n",
      "Epoch 5/15\n",
      "636/636 [============================>.] - ETA: 0s - loss: 0.0090 - acc: 0.9973Epoch 1/15\n",
      "637/636 [==============================] - 132s 207ms/step - loss: 0.0090 - acc: 0.9973 - val_loss: 0.0126 - val_acc: 0.9962\n",
      "Epoch 6/15\n",
      "636/636 [============================>.] - ETA: 0s - loss: 0.0079 - acc: 0.9975Epoch 1/15\n",
      "637/636 [==============================] - 132s 207ms/step - loss: 0.0079 - acc: 0.9975 - val_loss: 0.0050 - val_acc: 0.9987\n",
      "Epoch 7/15\n",
      "636/636 [============================>.] - ETA: 0s - loss: 7.8181e-04 - acc: 0.9995Epoch 1/15\n",
      "637/636 [==============================] - 125s 196ms/step - loss: 7.8110e-04 - acc: 0.9995 - val_loss: 0.0157 - val_acc: 0.9969\n",
      "Epoch 8/15\n",
      "636/636 [============================>.] - ETA: 0s - loss: 0.0100 - acc: 0.9972Epoch 1/15\n",
      "637/636 [==============================] - 135s 212ms/step - loss: 0.0100 - acc: 0.9972 - val_loss: 0.0013 - val_acc: 0.9987\n",
      "Epoch 9/15\n",
      "636/636 [============================>.] - ETA: 0s - loss: 0.0073 - acc: 0.9976Epoch 1/15\n",
      "637/636 [==============================] - 135s 212ms/step - loss: 0.0073 - acc: 0.9976 - val_loss: 0.0138 - val_acc: 0.9962\n",
      "Epoch 10/15\n",
      "636/636 [============================>.] - ETA: 0s - loss: 0.0117 - acc: 0.9965Epoch 1/15\n",
      "637/636 [==============================] - 133s 209ms/step - loss: 0.0117 - acc: 0.9965 - val_loss: 0.0025 - val_acc: 0.9987\n",
      "Epoch 11/15\n",
      "636/636 [============================>.] - ETA: 0s - loss: 0.0026 - acc: 0.9992Epoch 1/15\n",
      "637/636 [==============================] - 128s 201ms/step - loss: 0.0026 - acc: 0.9992 - val_loss: 0.0023 - val_acc: 0.9994\n",
      "Epoch 00011: early stopping\n"
     ]
    }
   ],
   "source": [
    "history3=font_type_detection_model()"
   ]
  },
  {
   "cell_type": "markdown",
   "metadata": {},
   "source": [
    "# total training time is about 1,485"
   ]
  },
  {
   "cell_type": "code",
   "execution_count": 22,
   "metadata": {},
   "outputs": [
    {
     "data": {
      "image/png": "[encoded data removed]",
      "text/plain": [
       "<Figure size 432x288 with 1 Axes>"
      ]
     },
     "metadata": {
      "needs_background": "light"
     },
     "output_type": "display_data"
    },
    {
     "data": {
      "image/png": "[encoded data removed]",
      "text/plain": [
       "<Figure size 432x288 with 1 Axes>"
      ]
     },
     "metadata": {
      "needs_background": "light"
     },
     "output_type": "display_data"
    }
   ],
   "source": [
    "import matplotlib.pyplot as plt\n",
    "acc = history3.history['acc']\n",
    "val_acc = history3.history['val_acc']\n",
    "loss = history3.history['loss']\n",
    "val_loss = history3.history['val_loss']\n",
    "\n",
    "epochs = range(len(acc))\n",
    "\n",
    "plt.plot(epochs, acc, 'r', label='Training accuracy')\n",
    "plt.plot(epochs, val_acc, 'b', label='Validation accuracy')\n",
    "plt.title('Training and validation accuracy')\n",
    "plt.legend()\n",
    "plt.figure()\n",
    "\n",
    "plt.plot(epochs, loss, 'r', label='Training Loss')\n",
    "plt.plot(epochs, val_loss, 'b', label='Validation Loss')\n",
    "plt.title('Training and validation loss')\n",
    "plt.legend()\n",
    "\n",
    "plt.show()"
   ]
  },
  {
   "cell_type": "code",
   "execution_count": 23,
   "metadata": {},
   "outputs": [
    {
     "name": "stdout",
     "output_type": "stream",
     "text": [
      "[[0.]]\n",
      "AdvertisingBold\n"
     ]
    },
    {
     "data": {
      "image/png": "[encoded data removed]",
      "text/plain": [
       "<Figure size 432x288 with 1 Axes>"
      ]
     },
     "metadata": {
      "needs_background": "light"
     },
     "output_type": "display_data"
    }
   ],
   "source": [
    "import numpy as np\n",
    "from keras.preprocessing import image\n",
    "\n",
    "\n",
    "img = image.load_img('E:\\\\assignments_DRkhaled\\\\font_detection\\\\font_type\\\\AdvertisingBold\\\\28.png', target_size=(64, 64))\n",
    "plt.imshow(img)\n",
    "x = image.img_to_array(img)\n",
    "x = np.expand_dims(x, axis=0)\n",
    "\n",
    "images = np.vstack([x])\n",
    "classes = history3.model.predict(images, batch_size=10)\n",
    "\n",
    "print(classes)\n",
    "if (classes ==1):\n",
    "      print('Andalus')\n",
    "elif (classes ==0):\n",
    "       print('AdvertisingBold')"
   ]
  },
  {
   "cell_type": "code",
   "execution_count": 27,
   "metadata": {},
   "outputs": [
    {
     "name": "stdout",
     "output_type": "stream",
     "text": [
      "[[1.]]\n",
      "Andalus\n"
     ]
    },
    {
     "data": {
      "image/png": "[encoded data removed]",
      "text/plain": [
       "<Figure size 432x288 with 1 Axes>"
      ]
     },
     "metadata": {
      "needs_background": "light"
     },
     "output_type": "display_data"
    }
   ],
   "source": [
    "import numpy as np\n",
    "from keras.preprocessing import image\n",
    "\n",
    "\n",
    "img = image.load_img('E:\\\\assignments_DRkhaled\\\\font_detection\\\\font_type\\\\Andalus\\\\5995.png', target_size=(64, 64))\n",
    "plt.imshow(img)\n",
    "x = image.img_to_array(img)\n",
    "x = np.expand_dims(x, axis=0)\n",
    "\n",
    "images = np.vstack([x])\n",
    "classes = history3.model.predict(images, batch_size=10)\n",
    "\n",
    "print(classes)\n",
    "if (classes ==1):\n",
    "      print('Andalus')\n",
    "elif (classes ==0):\n",
    "       print('AdvertisingBold')"
   ]
  }
 ],
 "metadata": {
  "kernelspec": {
   "display_name": "Python 3",
   "language": "python",
   "name": "python3"
  },
  "language_info": {
   "codemirror_mode": {
    "name": "ipython",
    "version": 3
   },
   "file_extension": ".py",
   "mimetype": "text/x-python",
   "name": "python",
   "nbconvert_exporter": "python",
   "pygments_lexer": "ipython3",
   "version": "3.7.0"
  }
 },
 "nbformat": 4,
 "nbformat_minor": 4
}
