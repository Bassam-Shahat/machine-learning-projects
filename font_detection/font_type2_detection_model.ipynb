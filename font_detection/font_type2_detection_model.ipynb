{
 "cells": [
  {
   "cell_type": "code",
   "execution_count": 1,
   "metadata": {},
   "outputs": [
    {
     "name": "stderr",
     "output_type": "stream",
     "text": [
      "Using TensorFlow backend.\n"
     ]
    }
   ],
   "source": [
    "import csv\n",
    "import numpy as np\n",
    "import tensorflow as tf\n",
    "from tensorflow.keras.preprocessing.image import ImageDataGenerator\n",
    "from keras.callbacks import ModelCheckpoint, EarlyStopping, CSVLogger"
   ]
  },
  {
   "cell_type": "code",
   "execution_count": 4,
   "metadata": {},
   "outputs": [],
   "source": [
    "def font_type2_detection_model():\n",
    "\n",
    "\n",
    "    #early stopping based on validation loss\n",
    "    early_stop = EarlyStopping(monitor='val_loss', patience=3, verbose=1)\n",
    "    #This callback will stop the training when there is no improvement in\n",
    "    # the validation loss for three consecutive epochs.\n",
    "\n",
    "    #CSVLogger logs epoch, acc, loss, val_acc, val_loss\n",
    "    log_csv = CSVLogger('font_type2_detection_model_logs.csv', separator=',', append=False)\n",
    "    callbacks_list = [ early_stop, log_csv]\n",
    "    \n",
    "    \n",
    "    # bulding model\n",
    "    model = tf.keras.models.Sequential([\n",
    "        tf.keras.layers.Conv2D(16, (3,3), activation='relu', input_shape=(64, 64, 3)),\n",
    "    tf.keras.layers.MaxPooling2D(2, 2),\n",
    "    # The second convolution\n",
    "    tf.keras.layers.Conv2D(32, (3,3), activation='relu'),\n",
    "    tf.keras.layers.MaxPooling2D(2,2),\n",
    "    tf.keras.layers.Dropout(0.2),    \n",
    "    # The third convolution\n",
    "    tf.keras.layers.Conv2D(64, (3,3), activation='relu'),\n",
    "    tf.keras.layers.MaxPooling2D(2,2),\n",
    "    tf.keras.layers.Dropout(0.2),     \n",
    "    # Flatten the results to feed into a DNN\n",
    "    tf.keras.layers.Flatten(),\n",
    "    # 512 neuron hidden layer\n",
    "    tf.keras.layers.Dense(512, activation='relu'),\n",
    "    # Only 1 output neuron. It will contain a value from 0-1\n",
    "    tf.keras.layers.Dense(4, activation='softmax')\n",
    "    ])\n",
    "\n",
    "\n",
    "\n",
    "    model.compile(loss='categorical_crossentropy',\n",
    "              optimizer = 'Adam',\n",
    "              metrics=['accuracy'])\n",
    "    model.summary()    \n",
    "\n",
    "\n",
    "    train_datagen = ImageDataGenerator(rescale=1/255,validation_split=0.2)\n",
    "\n",
    "\n",
    "    train_generator = train_datagen.flow_from_directory(\n",
    "        'E:\\\\assignments_DRkhaled\\\\font_detection\\\\font_type2',  # This is the source directory for training images\n",
    "        target_size=(64, 64),  # All images will be resized to 64*64\n",
    "        batch_size=10,\n",
    "        # Since we use binary_crossentropy loss, we need binary labels\n",
    "        class_mode='categorical',\n",
    "        subset='training')\n",
    " \n",
    "    validation_datagen = train_datagen.flow_from_directory(\n",
    "     'E:\\\\assignments_DRkhaled\\\\font_detection\\\\font_type2', # same directory as training data\n",
    "    target_size=(64, 64),\n",
    "    batch_size=10,\n",
    "    class_mode='categorical',\n",
    "    subset='validation') # set as validation data\n",
    "    \n",
    "         \n",
    "    # model fitting\n",
    "    history = model.fit_generator(\n",
    "      train_generator,\n",
    "      steps_per_epoch=6368 /10 ,  \n",
    "      epochs=15,\n",
    "      verbose=1, \n",
    "     callbacks=callbacks_list,\n",
    "     validation_data=validation_datagen,\n",
    "     validation_steps=1587 /10)\n",
    "    \n",
    "\n",
    "    \n",
    "    return history"
   ]
  },
  {
   "cell_type": "code",
   "execution_count": 5,
   "metadata": {},
   "outputs": [
    {
     "name": "stdout",
     "output_type": "stream",
     "text": [
      "Model: \"sequential_1\"\n",
      "_________________________________________________________________\n",
      "Layer (type)                 Output Shape              Param #   \n",
      "=================================================================\n",
      "conv2d_3 (Conv2D)            (None, 62, 62, 16)        448       \n",
      "_________________________________________________________________\n",
      "max_pooling2d_3 (MaxPooling2 (None, 31, 31, 16)        0         \n",
      "_________________________________________________________________\n",
      "conv2d_4 (Conv2D)            (None, 29, 29, 32)        4640      \n",
      "_________________________________________________________________\n",
      "max_pooling2d_4 (MaxPooling2 (None, 14, 14, 32)        0         \n",
      "_________________________________________________________________\n",
      "dropout_2 (Dropout)          (None, 14, 14, 32)        0         \n",
      "_________________________________________________________________\n",
      "conv2d_5 (Conv2D)            (None, 12, 12, 64)        18496     \n",
      "_________________________________________________________________\n",
      "max_pooling2d_5 (MaxPooling2 (None, 6, 6, 64)          0         \n",
      "_________________________________________________________________\n",
      "dropout_3 (Dropout)          (None, 6, 6, 64)          0         \n",
      "_________________________________________________________________\n",
      "flatten_1 (Flatten)          (None, 2304)              0         \n",
      "_________________________________________________________________\n",
      "dense_2 (Dense)              (None, 512)               1180160   \n",
      "_________________________________________________________________\n",
      "dense_3 (Dense)              (None, 4)                 2052      \n",
      "=================================================================\n",
      "Total params: 1,205,796\n",
      "Trainable params: 1,205,796\n",
      "Non-trainable params: 0\n",
      "_________________________________________________________________\n",
      "Found 6364 images belonging to 4 classes.\n",
      "Found 1589 images belonging to 4 classes.\n",
      "Epoch 1/15\n",
      "635/636 [============================>.] - ETA: 0s - loss: 1.3319 - acc: 0.3156Epoch 1/15\n",
      "637/636 [==============================] - 76s 119ms/step - loss: 1.3317 - acc: 0.3152 - val_loss: 1.2290 - val_acc: 0.3751\n",
      "Epoch 2/15\n",
      "636/636 [============================>.] - ETA: 0s - loss: 1.1121 - acc: 0.4418Epoch 1/15\n",
      "637/636 [==============================] - 38s 59ms/step - loss: 1.1124 - acc: 0.4414 - val_loss: 1.0781 - val_acc: 0.4663\n",
      "Epoch 3/15\n",
      "636/636 [============================>.] - ETA: 0s - loss: 0.9624 - acc: 0.5412Epoch 1/15\n",
      "637/636 [==============================] - 159s 249ms/step - loss: 0.9618 - acc: 0.5416 - val_loss: 0.9391 - val_acc: 0.5626\n",
      "Epoch 4/15\n",
      "636/636 [============================>.] - ETA: 0s - loss: 0.7827 - acc: 0.6585- ETA: 0s - loss: 0.7833 - acc: 0.6Epoch 1/15\n",
      "637/636 [==============================] - 40s 62ms/step - loss: 0.7831 - acc: 0.6585 - val_loss: 0.8214 - val_acc: 0.6501\n",
      "Epoch 5/15\n",
      "636/636 [============================>.] - ETA: 0s - loss: 0.5828 - acc: 0.7630Epoch 1/15\n",
      "637/636 [==============================] - 40s 63ms/step - loss: 0.5828 - acc: 0.7630 - val_loss: 0.5935 - val_acc: 0.7753\n",
      "Epoch 6/15\n",
      "636/636 [============================>.] - ETA: 0s - loss: 0.4629 - acc: 0.8196- ETA: 1s - loss: 0.Epoch 1/15\n",
      "637/636 [==============================] - 40s 63ms/step - loss: 0.4630 - acc: 0.8198 - val_loss: 0.5426 - val_acc: 0.7974\n",
      "Epoch 7/15\n",
      "636/636 [============================>.] - ETA: 0s - loss: 0.3500 - acc: 0.8613Epoch 1/15\n",
      "637/636 [==============================] - 41s 64ms/step - loss: 0.3501 - acc: 0.8613 - val_loss: 0.4848 - val_acc: 0.8295\n",
      "Epoch 8/15\n",
      "636/636 [============================>.] - ETA: 0s - loss: 0.3072 - acc: 0.8821Epoch 1/15\n",
      "637/636 [==============================] - 41s 64ms/step - loss: 0.3069 - acc: 0.8823 - val_loss: 0.5018 - val_acc: 0.8194\n",
      "Epoch 9/15\n",
      "636/636 [============================>.] - ETA: 0s - loss: 0.2156 - acc: 0.9199Epoch 1/15\n",
      "637/636 [==============================] - 41s 65ms/step - loss: 0.2163 - acc: 0.9195 - val_loss: 0.5364 - val_acc: 0.8269\n",
      "Epoch 10/15\n",
      "636/636 [============================>.] - ETA: 0s - loss: 0.2027 - acc: 0.9213- ETA: 0s - loss: 0.2021 - acc: 0Epoch 1/15\n",
      "637/636 [==============================] - 41s 64ms/step - loss: 0.2027 - acc: 0.9213 - val_loss: 0.5612 - val_acc: 0.8200\n",
      "Epoch 00010: early stopping\n"
     ]
    }
   ],
   "source": [
    "history3=font_type2_detection_model()"
   ]
  },
  {
   "cell_type": "markdown",
   "metadata": {},
   "source": [
    "### total training time is about 500 seconf"
   ]
  },
  {
   "cell_type": "code",
   "execution_count": 6,
   "metadata": {},
   "outputs": [
    {
     "data": {
      "image/png": "[encoded data removed]",
      "text/plain": [
       "<Figure size 432x288 with 1 Axes>"
      ]
     },
     "metadata": {
      "needs_background": "light"
     },
     "output_type": "display_data"
    },
    {
     "data": {
      "image/png": "[encoded data removed]",
      "text/plain": [
       "<Figure size 432x288 with 1 Axes>"
      ]
     },
     "metadata": {
      "needs_background": "light"
     },
     "output_type": "display_data"
    }
   ],
   "source": [
    "import matplotlib.pyplot as plt\n",
    "acc = history3.history['acc']\n",
    "val_acc = history3.history['val_acc']\n",
    "loss = history3.history['loss']\n",
    "val_loss = history3.history['val_loss']\n",
    "\n",
    "epochs = range(len(acc))\n",
    "\n",
    "plt.plot(epochs, acc, 'r', label='Training accuracy')\n",
    "plt.plot(epochs, val_acc, 'b', label='Validation accuracy')\n",
    "plt.title('Training and validation accuracy')\n",
    "plt.legend()\n",
    "plt.figure()\n",
    "\n",
    "plt.plot(epochs, loss, 'r', label='Training Loss')\n",
    "plt.plot(epochs, val_loss, 'b', label='Validation Loss')\n",
    "plt.title('Training and validation loss')\n",
    "plt.legend()\n",
    "\n",
    "plt.show()"
   ]
  },
  {
   "cell_type": "code",
   "execution_count": null,
   "metadata": {},
   "outputs": [],
   "source": []
  }
 ],
 "metadata": {
  "kernelspec": {
   "display_name": "Python 3",
   "language": "python",
   "name": "python3"
  },
  "language_info": {
   "codemirror_mode": {
    "name": "ipython",
    "version": 3
   },
   "file_extension": ".py",
   "mimetype": "text/x-python",
   "name": "python",
   "nbconvert_exporter": "python",
   "pygments_lexer": "ipython3",
   "version": "3.7.0"
  }
 },
 "nbformat": 4,
 "nbformat_minor": 4
}
